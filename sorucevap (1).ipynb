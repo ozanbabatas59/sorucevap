{
  "nbformat": 4,
  "nbformat_minor": 0,
  "metadata": {
    "colab": {
      "provenance": [],
      "gpuType": "T4"
    },
    "kernelspec": {
      "name": "python3",
      "display_name": "Python 3"
    },
    "language_info": {
      "name": "python"
    },
    "accelerator": "GPU"
  },
  "cells": [
    {
      "cell_type": "code",
      "execution_count": null,
      "metadata": {
        "id": "Z2KuVD-fKqVx"
      },
      "outputs": [],
      "source": [
        "!pip install transformers"
      ]
    },
    {
      "cell_type": "code",
      "source": [
        "from transformers import pipeline\n",
        "\n",
        "# Soru-cevap pipeline'ını oluştur\n",
        "qa_pipeline = pipeline(\"question-answering\", model=\"distilbert-base-uncased-distilled-squad\")\n",
        "\n",
        "# Örnek bağlam (context)\n",
        "context = \"\"\"\n",
        "Osmanlı Devleti, bugünkü Türkiye'nin Bilecik ilinin Söğüt ilçesinde bir beylik olarak kuruldu.\n",
        "Bağımsız bir devlet olarak tarih sahnesine çıkması, yaygın kabule göre 1299 yılında oldu.\n",
        "Ancak Prof. Dr. Halil İnalcık ve bazı diğer akademisyenler,\n",
        "Osmanlı Devleti'nin 1299'da Söğüt'te değil, 1302'de Yalova'da, Bizans'a karşı yapılan Koyunhisar Muharebesi sonrasında devlet niteliğini kazandığını iddia etti.\n",
        "\"\"\"\n",
        "\n",
        "def answer_question(question, context):\n",
        "    result = qa_pipeline(question=question, context=context)\n",
        "    return result['answer']\n",
        "\n",
        "# Kullanıcıdan soru al ve cevapla\n",
        "print(\"Soru sormaya başlayabilirsiniz (çıkmak için 'çık' yazın):\")\n",
        "while True:\n",
        "    user_question = input(\"Soru: \")\n",
        "    if user_question.lower() == \"çık\":\n",
        "        break\n",
        "    answer = answer_question(user_question, context)\n",
        "    print(\"Cevap: \" + answer)\n"
      ],
      "metadata": {
        "id": "jNDYpPyCKxXp"
      },
      "execution_count": null,
      "outputs": []
    }
  ]
}